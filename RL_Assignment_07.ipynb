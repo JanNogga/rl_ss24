{
  "cells": [
    {
      "cell_type": "markdown",
      "metadata": {
        "id": "view-in-github",
        "colab_type": "text"
      },
      "source": [
        "<a href=\"https://colab.research.google.com/github/JanNogga/rl_ss24/blob/main/RL_Assignment_07.ipynb\" target=\"_parent\"><img src=\"https://colab.research.google.com/assets/colab-badge.svg\" alt=\"Open In Colab\"/></a>"
      ]
    },
    {
      "cell_type": "markdown",
      "metadata": {
        "id": "42lCQv_4Ztdu"
      },
      "source": [
        "## Robot Learning\n",
        "\n",
        "## Assignment 7\n",
        "\n",
        "Solutions are due on 11.06.2023 before the lecture."
      ]
    },
    {
      "cell_type": "markdown",
      "metadata": {
        "id": "h82ySECHbyST"
      },
      "source": [
        "### Introduction\n",
        "\n",
        "On this assignment sheet, we will use an environment from [OpenAi Gym](https://github.com/openai/gym). The setup requires some further packages. Since this installation is not trivial, and we could only test it in our setup, we strongly recommend that you execute the cells in this notebook in [Google Colab](https://research.google.com/colaboratory/). You should find a button which opens this file directly in Colab at the top of this notebook. If not, you can simply import the .ipynb manually.\n",
        "\n",
        "If you have started your Colab session and are ready to proceed, uncomment the three lines in the code cell below. They will install everything required to simulate the Gym environment.\n",
        "\n",
        "**Warning: This is unlikely to work on your own computer, and might even mess up your system! Please only use the following lines in Colab. If you insist on using your own machine, please refer to installation instructions for Gym, torch and the box2d environments for your system.**"
      ]
    },
    {
      "cell_type": "code",
      "execution_count": null,
      "metadata": {
        "id": "ILxohiv0bxN5"
      },
      "outputs": [],
      "source": [
        "#!apt-get -qq install xvfb x11-utils &> /dev/null\n",
        "#!pip install ufal.pybox2d --quiet &> /dev/null\n",
        "#!pip install pyvirtualdisplay moviepy pyglet PyOpenGL-accelerate --quiet &> /dev/null"
      ]
    },
    {
      "cell_type": "markdown",
      "metadata": {
        "id": "-Et0INA7elG1"
      },
      "source": [
        "The following cell imports packages required for the task."
      ]
    },
    {
      "cell_type": "code",
      "execution_count": null,
      "metadata": {
        "id": "BCzDT-u_CqE1"
      },
      "outputs": [],
      "source": [
        "import numpy as np\n",
        "import gym\n",
        "import matplotlib.pyplot as plt\n",
        "from pyvirtualdisplay import Display\n",
        "from moviepy.editor import VideoClip\n",
        "from moviepy.video.io.bindings import mplfig_to_npimage\n",
        "import torch\n",
        "import torch.nn as nn\n",
        "from tqdm import tqdm\n",
        "import random\n",
        "import warnings\n",
        "warnings.filterwarnings(\"ignore\", category=DeprecationWarning)"
      ]
    },
    {
      "cell_type": "markdown",
      "metadata": {
        "id": "_-NDX630e0j0"
      },
      "source": [
        "## Task 7.1)\n",
        "\n",
        "Your agent is in state $s_t$ and has the $Q$-values $Q(s_t,a) = [Q(s_t,a_0), Q(s_t,a_1), Q(s_t,a_2), Q(s_t,a_3)] = [5, 7, 3, 9]$. If the agent samples its action according to a probabilistic policy $\\pi(s_t,a)$ which is created by softmax action selection from $Q(s_t,a)$, then what is the probability $Pr(a_1 | s_t)$ of taking action $a_2$ in state $s_t$?\n",
        "\n",
        "<div style=\"text-align: right; font-weight:bold\"> 3 Points </div>"
      ]
    },
    {
      "cell_type": "markdown",
      "metadata": {
        "id": "WqWwhf3Aiw6m"
      },
      "source": [
        "Please answer in this text cell."
      ]
    },
    {
      "cell_type": "markdown",
      "metadata": {
        "id": "-ZKGw1p5oPGl"
      },
      "source": [
        "## Task 7.2)\n",
        "\n",
        "In this task, we will combine an actor-critic method like on the previous sheet with a policy gradient algorithm to control an agent in a challenging environment: the Lunar Lander."
      ]
    },
    {
      "cell_type": "code",
      "execution_count": null,
      "metadata": {
        "colab": {
          "base_uri": "https://localhost:8080/"
        },
        "id": "_eQglYE9xZQG",
        "outputId": "6a6c767a-a9ca-4238-c26b-e29bfb0d87cc"
      },
      "outputs": [
        {
          "output_type": "execute_result",
          "data": {
            "text/plain": [
              "<pyvirtualdisplay.display.Display at 0x79ab86c834f0>"
            ]
          },
          "metadata": {},
          "execution_count": 3
        }
      ],
      "source": [
        "# set up showing animations from the environment in Colab.\n",
        "Display(visible=False).start()"
      ]
    },
    {
      "cell_type": "markdown",
      "metadata": {
        "id": "UcylDxhAo3vh"
      },
      "source": [
        "Examine the code cell below. It has two distinct purposes:\n",
        "\n",
        "* Showcase the agent-environment interaction for LunarLander-v2\n",
        "\n",
        "* Show how you can capture frames from this environment to animate an episode afterwards.\n",
        "\n",
        "Note that for training an agent in this environment, it is advisable to omit all code corresponding to the rendering. You can seperately render an episode of your agent's play afterwards.\n"
      ]
    },
    {
      "cell_type": "code",
      "execution_count": null,
      "metadata": {
        "colab": {
          "base_uri": "https://localhost:8080/"
        },
        "id": "lBjPAxrqb1GO",
        "outputId": "c3c606f5-a41a-4aa1-b81c-e34b7059b50a"
      },
      "outputs": [
        {
          "output_type": "stream",
          "name": "stdout",
          "text": [
            "Number of frames: 65\n"
          ]
        }
      ],
      "source": [
        "# Name of the environment, if you are having problems you can switch to 'CartPole-v1', which is easier to solve.\n",
        "ENV_NAME = 'LunarLander-v2' #'CartPole-v1'\n",
        "# Dimension of the LunarLander state space. For 'CartPole-v1', use 4 instead\n",
        "ENV_STATE_DIM =  8 # 4\n",
        "# Lunar Lander has 4 discrete actions: [Do Nothing, Fire Left Booster, Fire Main Engine, Fire Right Booster], 'CartPole-v1' has 2\n",
        "ENV_ACTION_DIM = 4 # 2\n",
        "# If the agent reaches this score the task is seen as solved\n",
        "SCORE_TO_SOLVE = 200 # 195\n",
        "MAX_STEPS = None # 500\n",
        "# Create the environment\n",
        "env = gym.make(ENV_NAME)\n",
        "# Reset the environment\n",
        "state = env.reset() # state = [x, y, dx, dy, theta, dtheta, leg1_contact, leg2_contact]\n",
        "# Track whether the episode is over\n",
        "done = False\n",
        "# List to append the frames produced by the environment renderer\n",
        "frames = []\n",
        "while not done:\n",
        "  # Render current situation and append to frames\n",
        "  frames.append(env.render('rgb_array'))\n",
        "  # Select a random action\n",
        "  action = env.action_space.sample()\n",
        "  # Execute this action\n",
        "  state, reward, done, info = env.step(action)\n",
        "# Print the number of frames\n",
        "print('Number of frames:', len(frames))\n",
        "# Prevent the renderer from showing artifacts\n",
        "plt.close()"
      ]
    },
    {
      "cell_type": "code",
      "execution_count": null,
      "metadata": {
        "id": "DoKAmR3onpP1"
      },
      "outputs": [],
      "source": [
        "# Helper function to animate a list of frames as produced above\n",
        "def visualize_trajectory(frames, fps=50):\n",
        "  duration = int(len(frames) // fps + 1)\n",
        "  fig, ax = plt.subplots()\n",
        "  def make_frame(t, ind_max=len(frames)):\n",
        "      ax.clear()\n",
        "      ax.imshow(frames[min((int(fps*t),ind_max-1))])\n",
        "      return mplfig_to_npimage(fig)\n",
        "  plt.close()\n",
        "  return VideoClip(make_frame, duration=duration)"
      ]
    },
    {
      "cell_type": "code",
      "execution_count": null,
      "metadata": {
        "colab": {
          "base_uri": "https://localhost:8080/",
          "height": 590
        },
        "id": "ISZEEpkZp04s",
        "outputId": "07edfe5b-a791-4822-dacb-aa9b9f71cf2b"
      },
      "outputs": [
        {
          "output_type": "stream",
          "name": "stdout",
          "text": [
            "Moviepy - Building video __temp__.mp4.\n",
            "Moviepy - Writing video __temp__.mp4\n",
            "\n"
          ]
        },
        {
          "output_type": "stream",
          "name": "stderr",
          "text": [
            "                                                              "
          ]
        },
        {
          "output_type": "stream",
          "name": "stdout",
          "text": [
            "Moviepy - Done !\n",
            "Moviepy - video ready __temp__.mp4\n"
          ]
        },
        {
          "output_type": "stream",
          "name": "stderr",
          "text": [
            "\r"
          ]
        },
        {
          "output_type": "execute_result",
          "data": {
            "text/plain": [
              "<moviepy.video.io.html_tools.HTML2 object>"
            ],
            "text/html": [
              "<div align=middle><video loop='True' autoplay='True'src='data:video/mp4;base64,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' controls>Sorry, seems like your browser doesn't support HTML5 audio/video</video></div>"
            ]
          },
          "metadata": {},
          "execution_count": 6
        }
      ],
      "source": [
        "# Get the animation from the frames of the played episode\n",
        "animation = visualize_trajectory(frames)\n",
        "# Show the animation\n",
        "animation.ipython_display(fps=50, loop=True, autoplay=True)"
      ]
    },
    {
      "cell_type": "markdown",
      "metadata": {
        "id": "kP6tJzJvrK2b"
      },
      "source": [
        "Probably, the random agent will destroy itself instead of landing between the two flags. We would like you to improve upon this. Below, you are given a neural net with learnable weights $\\theta$ which takes an environment state $s_t$ as input and can output either a state value $V_{\\theta}(s_t)$ or a probability distribution over the actions $\\pi_{\\theta}(s_t,a)$."
      ]
    },
    {
      "cell_type": "code",
      "execution_count": null,
      "metadata": {
        "colab": {
          "base_uri": "https://localhost:8080/"
        },
        "id": "ipdbrnfet58W",
        "outputId": "ccc40fce-8c36-409f-9148-8d52c2076fa0"
      },
      "outputs": [
        {
          "output_type": "stream",
          "name": "stdout",
          "text": [
            "Dummy Input: [0.72 0.74 0.38 0.82 0.07 0.51 0.99 0.18]\n",
            "Actor output: tensor([0.3382, 0.1791, 0.2621, 0.2206], grad_fn=<SqueezeBackward0>)\n",
            "Critic output: tensor(-0.2373, grad_fn=<SqueezeBackward0>)\n"
          ]
        }
      ],
      "source": [
        "# If you feel like it, you can, but you do not need to adapt this\n",
        "class DualNet(nn.Module):\n",
        "    def __init__(self, state_dim=ENV_STATE_DIM, action_dim=ENV_ACTION_DIM, hidden_layer_dim=42):\n",
        "        super(DualNet, self).__init__()\n",
        "        # Create some layers to encode the input state\n",
        "        self.layers = [nn.Linear(state_dim, hidden_layer_dim),\n",
        "                       nn.LeakyReLU()]\n",
        "        # Combine these layers into a net\n",
        "        self.net = nn.Sequential(*self.layers)\n",
        "        # Critic output layers to estimate V from the state encoding\n",
        "        self.critic = nn.Sequential(*[nn.Linear(hidden_layer_dim,1)])\n",
        "        # Actor output layers to estimate pi from the state encoding\n",
        "        self.actor = nn.Sequential(*[nn.Linear(hidden_layer_dim,action_dim),\n",
        "                                        nn.Softmax(dim=-1)])\n",
        "    def forward(self, s, mode):\n",
        "        # Convert input state to tensor\n",
        "        x = torch.tensor(s).float().view(1,-1)\n",
        "        # Encode state\n",
        "        x = self.net(x)\n",
        "        if mode == 'actor':\n",
        "          # Return probability distribution over actions\n",
        "          x = self.actor(x)\n",
        "        else:\n",
        "          # Return estimate of state value\n",
        "          x = self.critic(x)\n",
        "        return x.squeeze()\n",
        "\n",
        "# Example usage:\n",
        "# Create instance of the DualNet class\n",
        "test_net = DualNet()\n",
        "# Create a dummy state, round just for pretty printing\n",
        "test_input = np.around(np.random.rand(ENV_STATE_DIM),2)\n",
        "# Get the actor output\n",
        "actor_out = test_net(test_input, mode='actor')\n",
        "# Get the critic output\n",
        "critic_out = test_net(test_input, mode='critic')\n",
        "print('Dummy Input:', test_input)\n",
        "print('Actor output:', actor_out)\n",
        "print('Critic output:', critic_out)"
      ]
    },
    {
      "cell_type": "markdown",
      "metadata": {
        "id": "Xbg1wpQStXHL"
      },
      "source": [
        "Now to the task: Play episodes according to the following scheme:\n",
        "\n",
        "* For each visited state $s_t$, store the output of the critic $V_\\theta(s_t)$ in a list.\n",
        "\n",
        "* Select an action $a_t$ by sampling from the distribution $\\pi_{\\theta}(s_t,a)$ output by the actor. In a list, store the log prob of the action: $l_t = log(\\pi_{\\theta}[s_t,a_t])$.\n",
        "\n",
        "* Execute the action and observe the reward $r_{t+1}$ provided by the environment.\n",
        "\n",
        "After each episode, use the stored rewards to calculate the Returns $R_t$ following each state $s_t$ using the discount factor $\\gamma$. Next, calculate for each $t$\n",
        "\n",
        "$$\\delta_t = R_t - V_{\\theta}(s_t)$$\n",
        "\n",
        "Then, calculate the loss of the critic as\n",
        "\n",
        "$$L_{critic} = 0.5 \\sum_t \\delta_t^2$$\n",
        "\n",
        "and the loss of the actor using the log probs as\n",
        "\n",
        "$$L_{actor} = \\sum_t - l_t  \\delta_t$$\n",
        "\n",
        "and finally the total loss\n",
        "\n",
        "$$L = L_{critic} + L_{actor}$$\n",
        "\n",
        "Now, update the parameters $\\theta$ using\n",
        "\n",
        "$$\\theta \\leftarrow \\theta + \\alpha \\nabla_{\\theta}L$$\n",
        "\n",
        "The Lunar Lander problem is considered solved when the agent achieves an average return of 200 over 100 episodes. Solve the problem, or play around 3000 episodes as described above and then report the average return of the final 100 episodes played. This means that you are welcome to preemptively stop training if the average return is sufficient. Then, play one more episode and animate it like in the example above. Use $\\gamma = 0.99$ in your experiments. Save your final animation and place it into your sciebo folder along with this notebook. We recommend starting with a learning rate of $\\alpha = 0.02$, but please note that this parameter might be sensitive to the specifics of your implementation. Solving the environment should not take longer than an hour, but we have seen implementations that completed the task in as little as 10 minutes.\n",
        "\n",
        "### Hints:\n",
        "\n",
        "Following tips might help you complete this task:\n",
        "\n",
        "* You might need to convert your return $R_t$ to the correct datatype:\n",
        "\n",
        "$$\\delta_t = torch.tensor(R_t) - V_{\\theta}(s_t)$$\n",
        "\n",
        "* If you want to use numpy to sample from $\\pi_{\\theta}(s_t,a)$, you can get a numpy array by calling\n",
        "\n",
        "$$\\pi_{\\theta}(s_t,a).detach().numpy()$$\n",
        "\n",
        "* When you calculate the log probs $l_t$, preserve the torch gradient graph by using the torch function\n",
        "\n",
        "$$l_t = torch.log(\\pi_{\\theta}[s_t,a_t])$$\n",
        "\n",
        "* When you calculate $L_{actor}$, use $\\delta_t.item()$ to ensure that the actor's loss does not directly influence the critic's gradients.\n",
        "\n",
        "* It might be easier to solve the task for the Cart-Pole environment first, just change ENV_NAME, ENV_STATE_DIM and ENV_ACTION_DIM in one of the previous code blocks.\n",
        "\n",
        "* Standardizing the Returns (zero mean and std 1) before calculating $\\delta_t$ can boost performance.\n",
        "\n",
        "* Below you are already given a rough structure for the algorithm. If you stick to it, torch will compute and apply $\\nabla_{\\theta}L$ for you!\n",
        "\n",
        "<div style=\"text-align: right; font-weight:bold\"> 10 +  3 (animation) Points </div>"
      ]
    },
    {
      "cell_type": "code",
      "execution_count": null,
      "metadata": {
        "id": "IOXy4HukVgGf"
      },
      "outputs": [],
      "source": [
        "# Complete this code or write your own!\n",
        "# Create the environment\n",
        "env = gym.make(ENV_NAME)\n",
        "# Get the combined actor and critic model\n",
        "net = DualNet()\n",
        "# Number of episodes to play, maybe use fewer at first\n",
        "num_iter = 3000\n",
        "# Learning rate for the parameter updates\n",
        "alpha = 2e-2\n",
        "# Discount factor\n",
        "gamma = 0.99\n",
        "# The optimizer will do the gradient updates for you\n",
        "# It needs the trainable parameters and a learning rate\n",
        "optimizer = torch.optim.RMSprop(net.parameters(), lr=alpha)\n",
        "\n",
        "# This progress_bar is useful to know how far along the training is\n",
        "progress_bar = tqdm(range(num_iter), total=num_iter, position=0, leave=True)\n",
        "# For each episode (episode can be used like an int)\n",
        "for episode in progress_bar:\n",
        "    # Reset the accumulated gradients of the model parameters\n",
        "    optimizer.zero_grad()\n",
        "    # Reset the environment and observe the starting state\n",
        "    s = env.reset()\n",
        "    done = 0\n",
        "    # Collect the following terms during the episode\n",
        "    rewards = []\n",
        "    state_vals = []\n",
        "    log_probs = []\n",
        "    while not done:\n",
        "        # During each Episode:\n",
        "        # Evaluate the critic for s, store it\n",
        "\n",
        "        # Evaluate the actor for s\n",
        "\n",
        "        # Sample a from the distribution given by the actor\n",
        "\n",
        "        # Store log_prob of a\n",
        "\n",
        "        # Execute action a, observe next state, reward and done\n",
        "        s, r, done, _ = env.step(a)\n",
        "        # Store the reward\n",
        "\n",
        "\n",
        "    # After each episode is done\n",
        "    # Calculate the Returns from the episode. Use rewards and gamma\n",
        "\n",
        "    # You might want to standardize the Returns\n",
        "\n",
        "    # Calculate delta_t, L_actor, L_critic\n",
        "\n",
        "    # Calculate the loss L\n",
        "    L = L_critic + L_actor\n",
        "    # Set the gradients with respect to the parameters\n",
        "    L.backward()\n",
        "    # Update the parameters based on the gradients\n",
        "    optimizer.step()\n",
        "    # If you want your progress bar to print info, you can use the following template\n",
        "    # How often to update info\n",
        "    if episode % 10 == 0:\n",
        "        # When to first update info\n",
        "        if episode > 99:\n",
        "            # List of strings containing info\n",
        "            episode_summary = [f\"{episode+1}:\"] + ['List of',  'further strings you might want in your progress bar']\n",
        "            # Set progress bar\n",
        "            progress_bar.set_description(\"\".join(episode_summary))"
      ]
    },
    {
      "cell_type": "code",
      "execution_count": null,
      "metadata": {
        "id": "4rDXENdEA5OW"
      },
      "outputs": [],
      "source": [
        " # Your code for showing the results can go here"
      ]
    },
    {
      "cell_type": "markdown",
      "metadata": {
        "id": "Ut6ld60kHdRt"
      },
      "source": [
        "## Task 7.3)\n",
        "\n",
        "In the previous task, you calculate the loss of the policy network as\n",
        "\n",
        "$$L_{actor} = \\sum_t - log(\\pi_{\\theta}[s_t,a_t])  \\delta_t$$\n",
        "\n",
        "with\n",
        "\n",
        "$$\\delta_t = R_t - V_{\\theta}(s_t).$$\n",
        "\n",
        "Give an intuitive explanation why minimizing this term leads to actions with a good outcome being more likely and actions with a bad outcome becoming less likely.\n",
        "\n",
        "<div style=\"text-align: right; font-weight:bold\"> 4 Points </div>"
      ]
    },
    {
      "cell_type": "markdown",
      "metadata": {
        "id": "4nrV6-_OSQgx"
      },
      "source": [
        "Please answer in this text cell."
      ]
    }
  ],
  "metadata": {
    "colab": {
      "provenance": [],
      "gpuType": "T4",
      "include_colab_link": true
    },
    "kernelspec": {
      "display_name": "Python 3",
      "name": "python3"
    },
    "language_info": {
      "codemirror_mode": {
        "name": "ipython",
        "version": 3
      },
      "file_extension": ".py",
      "mimetype": "text/x-python",
      "name": "python",
      "nbconvert_exporter": "python",
      "pygments_lexer": "ipython3",
      "version": "3.9.16"
    },
    "accelerator": "GPU"
  },
  "nbformat": 4,
  "nbformat_minor": 0
}